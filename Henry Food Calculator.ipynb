{
 "cells": [
  {
   "cell_type": "code",
   "execution_count": 4,
   "metadata": {},
   "outputs": [],
   "source": [
    "def henry_food(pnds):\n",
    "    total_oz = pnds * 16\n",
    "    oz_per_meal = 2.7\n",
    "    meals_per_day = 2\n",
    "    total_meals = total_oz // oz_per_meal\n",
    "    left_over = round(total_oz - (total_meals * oz_per_meal), 2)\n",
    "    days_worth = total_meals / meals_per_day\n",
    "    return str(pnds) + \"lbs of food will last \" + str(total_meals) + \" meals / \" + str(days_worth) + \" days of food. There will be \" + str(left_over) + \" ounces remaining.\""
   ]
  },
  {
   "cell_type": "code",
   "execution_count": 5,
   "metadata": {},
   "outputs": [
    {
     "data": {
      "text/plain": [
       "'10lbs of food will last 59.0 meals / 29.5 days of food. There will be 0.7 ounces remaining.'"
      ]
     },
     "execution_count": 5,
     "metadata": {},
     "output_type": "execute_result"
    }
   ],
   "source": [
    "henry_food(10)"
   ]
  },
  {
   "cell_type": "code",
   "execution_count": null,
   "metadata": {},
   "outputs": [],
   "source": []
  }
 ],
 "metadata": {
  "kernelspec": {
   "display_name": "Python 3",
   "language": "python",
   "name": "python3"
  },
  "language_info": {
   "codemirror_mode": {
    "name": "ipython",
    "version": 3
   },
   "file_extension": ".py",
   "mimetype": "text/x-python",
   "name": "python",
   "nbconvert_exporter": "python",
   "pygments_lexer": "ipython3",
   "version": "3.6.6"
  }
 },
 "nbformat": 4,
 "nbformat_minor": 2
}
